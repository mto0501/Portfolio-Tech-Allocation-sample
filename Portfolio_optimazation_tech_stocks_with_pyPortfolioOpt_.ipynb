{
  "nbformat": 4,
  "nbformat_minor": 0,
  "metadata": {
    "colab": {
      "name": "Portfolio optimazation tech stocks with pyPortfolioOpt  .ipynb",
      "provenance": [],
      "authorship_tag": "ABX9TyNC04aag5xFecEqIN75JDPm",
      "include_colab_link": true
    },
    "kernelspec": {
      "name": "python3",
      "display_name": "Python 3"
    },
    "language_info": {
      "name": "python"
    }
  },
  "cells": [
    {
      "cell_type": "markdown",
      "metadata": {
        "id": "view-in-github",
        "colab_type": "text"
      },
      "source": [
        "<a href=\"https://colab.research.google.com/github/mto0501/Portfolio-Tech-Allocation-sample/blob/main/Portfolio_optimazation_tech_stocks_with_pyPortfolioOpt_.ipynb\" target=\"_parent\"><img src=\"https://colab.research.google.com/assets/colab-badge.svg\" alt=\"Open In Colab\"/></a>"
      ]
    },
    {
      "cell_type": "code",
      "metadata": {
        "id": "z43k6Ts6ea4v"
      },
      "source": [
        "from pandas_datareader import data as web\n",
        "import pandas as pd\n",
        "import numpy as np\n",
        "import matplotlib.pyplot as plt\n",
        "from datetime import datetime\n",
        "plt.style.use('fivethirtyeight')"
      ],
      "execution_count": null,
      "outputs": []
    },
    {
      "cell_type": "code",
      "metadata": {
        "id": "JSuAG8FDew8i"
      },
      "source": [
        "#Get the tickers in portfolio\n",
        "assets = [\"TSLA\",\"SPOT\",\"SQ\",\"PINS\",\"JD\"]"
      ],
      "execution_count": null,
      "outputs": []
    },
    {
      "cell_type": "code",
      "metadata": {
        "id": "oxRpwha3fRtb"
      },
      "source": [
        "#Assign weights to the stocks. \n",
        "weights = np.array([0.2,0.2,0.2,0.2,0.2])"
      ],
      "execution_count": null,
      "outputs": []
    },
    {
      "cell_type": "code",
      "metadata": {
        "id": "Lyw98Os_foMg"
      },
      "source": [
        "#Get the stocks start date\n",
        "StockStartDate = '2019-01-01'"
      ],
      "execution_count": null,
      "outputs": []
    },
    {
      "cell_type": "code",
      "metadata": {
        "id": "oFTHY0vAfwat"
      },
      "source": [
        "#Get the stock ending date\n",
        "today = datetime.today().strftime(\"%Y-%m-%d\")\n"
      ],
      "execution_count": null,
      "outputs": []
    },
    {
      "cell_type": "code",
      "metadata": {
        "id": "JOT5Xc95gBCK"
      },
      "source": [
        "#Create a dataFrame to store the adjusted close price of the stocks\n",
        "df = pd.DataFrame()\n",
        "\n",
        "#Store the adjusted close price of the stock into the df\n",
        "for stock in assets:  \n",
        "  df[stock] = web.DataReader(stock,data_source = 'yahoo',start = StockStartDate ,end = today)[\"Adj Close\"]"
      ],
      "execution_count": null,
      "outputs": []
    },
    {
      "cell_type": "code",
      "metadata": {
        "colab": {
          "base_uri": "https://localhost:8080/",
          "height": 447
        },
        "id": "xNqb47C8gbif",
        "outputId": "c10b407f-1a7c-48c1-a351-c368e0070a45"
      },
      "source": [
        "# Show the data frame\n",
        "df"
      ],
      "execution_count": null,
      "outputs": [
        {
          "output_type": "execute_result",
          "data": {
            "text/html": [
              "<div>\n",
              "<style scoped>\n",
              "    .dataframe tbody tr th:only-of-type {\n",
              "        vertical-align: middle;\n",
              "    }\n",
              "\n",
              "    .dataframe tbody tr th {\n",
              "        vertical-align: top;\n",
              "    }\n",
              "\n",
              "    .dataframe thead th {\n",
              "        text-align: right;\n",
              "    }\n",
              "</style>\n",
              "<table border=\"1\" class=\"dataframe\">\n",
              "  <thead>\n",
              "    <tr style=\"text-align: right;\">\n",
              "      <th></th>\n",
              "      <th>TSLA</th>\n",
              "      <th>SPOT</th>\n",
              "      <th>SQ</th>\n",
              "      <th>PINS</th>\n",
              "      <th>JD</th>\n",
              "    </tr>\n",
              "    <tr>\n",
              "      <th>Date</th>\n",
              "      <th></th>\n",
              "      <th></th>\n",
              "      <th></th>\n",
              "      <th></th>\n",
              "      <th></th>\n",
              "    </tr>\n",
              "  </thead>\n",
              "  <tbody>\n",
              "    <tr>\n",
              "      <th>2019-01-02</th>\n",
              "      <td>62.023998</td>\n",
              "      <td>113.739998</td>\n",
              "      <td>57.200001</td>\n",
              "      <td>NaN</td>\n",
              "      <td>21.270000</td>\n",
              "    </tr>\n",
              "    <tr>\n",
              "      <th>2019-01-03</th>\n",
              "      <td>60.071999</td>\n",
              "      <td>109.019997</td>\n",
              "      <td>52.419998</td>\n",
              "      <td>NaN</td>\n",
              "      <td>20.350000</td>\n",
              "    </tr>\n",
              "    <tr>\n",
              "      <th>2019-01-04</th>\n",
              "      <td>63.537998</td>\n",
              "      <td>118.510002</td>\n",
              "      <td>58.180000</td>\n",
              "      <td>NaN</td>\n",
              "      <td>22.270000</td>\n",
              "    </tr>\n",
              "    <tr>\n",
              "      <th>2019-01-07</th>\n",
              "      <td>66.991997</td>\n",
              "      <td>119.360001</td>\n",
              "      <td>60.720001</td>\n",
              "      <td>NaN</td>\n",
              "      <td>22.760000</td>\n",
              "    </tr>\n",
              "    <tr>\n",
              "      <th>2019-01-08</th>\n",
              "      <td>67.070000</td>\n",
              "      <td>117.480003</td>\n",
              "      <td>63.119999</td>\n",
              "      <td>NaN</td>\n",
              "      <td>22.950001</td>\n",
              "    </tr>\n",
              "    <tr>\n",
              "      <th>...</th>\n",
              "      <td>...</td>\n",
              "      <td>...</td>\n",
              "      <td>...</td>\n",
              "      <td>...</td>\n",
              "      <td>...</td>\n",
              "    </tr>\n",
              "    <tr>\n",
              "      <th>2021-05-25</th>\n",
              "      <td>604.690002</td>\n",
              "      <td>236.759995</td>\n",
              "      <td>216.199997</td>\n",
              "      <td>63.759998</td>\n",
              "      <td>72.809998</td>\n",
              "    </tr>\n",
              "    <tr>\n",
              "      <th>2021-05-26</th>\n",
              "      <td>619.130005</td>\n",
              "      <td>238.389999</td>\n",
              "      <td>222.339996</td>\n",
              "      <td>62.939999</td>\n",
              "      <td>73.199997</td>\n",
              "    </tr>\n",
              "    <tr>\n",
              "      <th>2021-05-27</th>\n",
              "      <td>630.849976</td>\n",
              "      <td>240.259995</td>\n",
              "      <td>220.899994</td>\n",
              "      <td>64.300003</td>\n",
              "      <td>72.830002</td>\n",
              "    </tr>\n",
              "    <tr>\n",
              "      <th>2021-05-28</th>\n",
              "      <td>625.219971</td>\n",
              "      <td>241.570007</td>\n",
              "      <td>222.520004</td>\n",
              "      <td>65.300003</td>\n",
              "      <td>73.940002</td>\n",
              "    </tr>\n",
              "    <tr>\n",
              "      <th>2021-06-01</th>\n",
              "      <td>626.554993</td>\n",
              "      <td>242.160004</td>\n",
              "      <td>223.149994</td>\n",
              "      <td>65.044998</td>\n",
              "      <td>78.184998</td>\n",
              "    </tr>\n",
              "  </tbody>\n",
              "</table>\n",
              "<p>608 rows × 5 columns</p>\n",
              "</div>"
            ],
            "text/plain": [
              "                  TSLA        SPOT          SQ       PINS         JD\n",
              "Date                                                                \n",
              "2019-01-02   62.023998  113.739998   57.200001        NaN  21.270000\n",
              "2019-01-03   60.071999  109.019997   52.419998        NaN  20.350000\n",
              "2019-01-04   63.537998  118.510002   58.180000        NaN  22.270000\n",
              "2019-01-07   66.991997  119.360001   60.720001        NaN  22.760000\n",
              "2019-01-08   67.070000  117.480003   63.119999        NaN  22.950001\n",
              "...                ...         ...         ...        ...        ...\n",
              "2021-05-25  604.690002  236.759995  216.199997  63.759998  72.809998\n",
              "2021-05-26  619.130005  238.389999  222.339996  62.939999  73.199997\n",
              "2021-05-27  630.849976  240.259995  220.899994  64.300003  72.830002\n",
              "2021-05-28  625.219971  241.570007  222.520004  65.300003  73.940002\n",
              "2021-06-01  626.554993  242.160004  223.149994  65.044998  78.184998\n",
              "\n",
              "[608 rows x 5 columns]"
            ]
          },
          "metadata": {
            "tags": []
          },
          "execution_count": 10
        }
      ]
    },
    {
      "cell_type": "code",
      "metadata": {
        "colab": {
          "base_uri": "https://localhost:8080/",
          "height": 318
        },
        "id": "7PoEXEhyg4Wm",
        "outputId": "fde6c493-1605-4218-d1fb-e8f366695670"
      },
      "source": [
        "#Visually show the stock portfolio:\n",
        "title = \"Portfolio adj. Close Price History\"\n",
        "\n",
        "# Get the stocks\n",
        "my_stocks = df\n",
        "\n",
        "# Create and plot the graph\n",
        "\n",
        "for c in my_stocks.columns.values:\n",
        "  plt.plot(my_stocks[c],label =c)\n",
        "\n",
        "plt.title(title)\n",
        "plt.xlabel(\"Date\", fontsize = 18)\n",
        "plt.ylabel('Adj. Price USA($)', fontsize = 18)\n",
        "plt.legend(my_stocks.columns.values, loc ='upper left')\n",
        "plt.show()"
      ],
      "execution_count": null,
      "outputs": [
        {
          "output_type": "display_data",
          "data": {
            "image/png": "[encoded data removed]",
            "text/plain": [
              "<Figure size 432x288 with 1 Axes>"
            ]
          },
          "metadata": {
            "tags": [],
            "needs_background": "light"
          }
        },
        {
          "output_type": "display_data",
          "data": {
            "text/plain": [
              "<Figure size 432x288 with 0 Axes>"
            ]
          },
          "metadata": {
            "tags": []
          }
        }
      ]
    },
    {
      "cell_type": "code",
      "metadata": {
        "colab": {
          "base_uri": "https://localhost:8080/",
          "height": 447
        },
        "id": "QXzd6OfcizN3",
        "outputId": "552e6e4d-b605-4d62-8389-5d83888e4608"
      },
      "source": [
        " #Show daily simple return\n",
        " returns = df.pct_change()\n",
        " returns"
      ],
      "execution_count": null,
      "outputs": [
        {
          "output_type": "execute_result",
          "data": {
            "text/html": [
              "<div>\n",
              "<style scoped>\n",
              "    .dataframe tbody tr th:only-of-type {\n",
              "        vertical-align: middle;\n",
              "    }\n",
              "\n",
              "    .dataframe tbody tr th {\n",
              "        vertical-align: top;\n",
              "    }\n",
              "\n",
              "    .dataframe thead th {\n",
              "        text-align: right;\n",
              "    }\n",
              "</style>\n",
              "<table border=\"1\" class=\"dataframe\">\n",
              "  <thead>\n",
              "    <tr style=\"text-align: right;\">\n",
              "      <th></th>\n",
              "      <th>TSLA</th>\n",
              "      <th>SPOT</th>\n",
              "      <th>SQ</th>\n",
              "      <th>PINS</th>\n",
              "      <th>JD</th>\n",
              "    </tr>\n",
              "    <tr>\n",
              "      <th>Date</th>\n",
              "      <th></th>\n",
              "      <th></th>\n",
              "      <th></th>\n",
              "      <th></th>\n",
              "      <th></th>\n",
              "    </tr>\n",
              "  </thead>\n",
              "  <tbody>\n",
              "    <tr>\n",
              "      <th>2019-01-02</th>\n",
              "      <td>NaN</td>\n",
              "      <td>NaN</td>\n",
              "      <td>NaN</td>\n",
              "      <td>NaN</td>\n",
              "      <td>NaN</td>\n",
              "    </tr>\n",
              "    <tr>\n",
              "      <th>2019-01-03</th>\n",
              "      <td>-0.031472</td>\n",
              "      <td>-0.041498</td>\n",
              "      <td>-0.083566</td>\n",
              "      <td>NaN</td>\n",
              "      <td>-0.043253</td>\n",
              "    </tr>\n",
              "    <tr>\n",
              "      <th>2019-01-04</th>\n",
              "      <td>0.057697</td>\n",
              "      <td>0.087048</td>\n",
              "      <td>0.109882</td>\n",
              "      <td>NaN</td>\n",
              "      <td>0.094349</td>\n",
              "    </tr>\n",
              "    <tr>\n",
              "      <th>2019-01-07</th>\n",
              "      <td>0.054361</td>\n",
              "      <td>0.007172</td>\n",
              "      <td>0.043658</td>\n",
              "      <td>NaN</td>\n",
              "      <td>0.022003</td>\n",
              "    </tr>\n",
              "    <tr>\n",
              "      <th>2019-01-08</th>\n",
              "      <td>0.001164</td>\n",
              "      <td>-0.015751</td>\n",
              "      <td>0.039526</td>\n",
              "      <td>NaN</td>\n",
              "      <td>0.008348</td>\n",
              "    </tr>\n",
              "    <tr>\n",
              "      <th>...</th>\n",
              "      <td>...</td>\n",
              "      <td>...</td>\n",
              "      <td>...</td>\n",
              "      <td>...</td>\n",
              "      <td>...</td>\n",
              "    </tr>\n",
              "    <tr>\n",
              "      <th>2021-05-25</th>\n",
              "      <td>-0.002886</td>\n",
              "      <td>0.011535</td>\n",
              "      <td>0.024887</td>\n",
              "      <td>0.013511</td>\n",
              "      <td>0.016048</td>\n",
              "    </tr>\n",
              "    <tr>\n",
              "      <th>2021-05-26</th>\n",
              "      <td>0.023880</td>\n",
              "      <td>0.006885</td>\n",
              "      <td>0.028400</td>\n",
              "      <td>-0.012861</td>\n",
              "      <td>0.005356</td>\n",
              "    </tr>\n",
              "    <tr>\n",
              "      <th>2021-05-27</th>\n",
              "      <td>0.018930</td>\n",
              "      <td>0.007844</td>\n",
              "      <td>-0.006477</td>\n",
              "      <td>0.021608</td>\n",
              "      <td>-0.005055</td>\n",
              "    </tr>\n",
              "    <tr>\n",
              "      <th>2021-05-28</th>\n",
              "      <td>-0.008924</td>\n",
              "      <td>0.005452</td>\n",
              "      <td>0.007334</td>\n",
              "      <td>0.015552</td>\n",
              "      <td>0.015241</td>\n",
              "    </tr>\n",
              "    <tr>\n",
              "      <th>2021-06-01</th>\n",
              "      <td>0.002135</td>\n",
              "      <td>0.002442</td>\n",
              "      <td>0.002831</td>\n",
              "      <td>-0.003905</td>\n",
              "      <td>0.057411</td>\n",
              "    </tr>\n",
              "  </tbody>\n",
              "</table>\n",
              "<p>608 rows × 5 columns</p>\n",
              "</div>"
            ],
            "text/plain": [
              "                TSLA      SPOT        SQ      PINS        JD\n",
              "Date                                                        \n",
              "2019-01-02       NaN       NaN       NaN       NaN       NaN\n",
              "2019-01-03 -0.031472 -0.041498 -0.083566       NaN -0.043253\n",
              "2019-01-04  0.057697  0.087048  0.109882       NaN  0.094349\n",
              "2019-01-07  0.054361  0.007172  0.043658       NaN  0.022003\n",
              "2019-01-08  0.001164 -0.015751  0.039526       NaN  0.008348\n",
              "...              ...       ...       ...       ...       ...\n",
              "2021-05-25 -0.002886  0.011535  0.024887  0.013511  0.016048\n",
              "2021-05-26  0.023880  0.006885  0.028400 -0.012861  0.005356\n",
              "2021-05-27  0.018930  0.007844 -0.006477  0.021608 -0.005055\n",
              "2021-05-28 -0.008924  0.005452  0.007334  0.015552  0.015241\n",
              "2021-06-01  0.002135  0.002442  0.002831 -0.003905  0.057411\n",
              "\n",
              "[608 rows x 5 columns]"
            ]
          },
          "metadata": {
            "tags": []
          },
          "execution_count": 22
        }
      ]
    },
    {
      "cell_type": "code",
      "metadata": {
        "colab": {
          "base_uri": "https://localhost:8080/",
          "height": 203
        },
        "id": "6MfZ2rEpkk-j",
        "outputId": "e6628370-de1f-4330-dee6-dbc4478a1954"
      },
      "source": [
        "# Annualized covariance matric\n",
        "cov_matrix_annual = returns.cov() * 252\n",
        "cov_matrix_annual"
      ],
      "execution_count": null,
      "outputs": [
        {
          "output_type": "execute_result",
          "data": {
            "text/html": [
              "<div>\n",
              "<style scoped>\n",
              "    .dataframe tbody tr th:only-of-type {\n",
              "        vertical-align: middle;\n",
              "    }\n",
              "\n",
              "    .dataframe tbody tr th {\n",
              "        vertical-align: top;\n",
              "    }\n",
              "\n",
              "    .dataframe thead th {\n",
              "        text-align: right;\n",
              "    }\n",
              "</style>\n",
              "<table border=\"1\" class=\"dataframe\">\n",
              "  <thead>\n",
              "    <tr style=\"text-align: right;\">\n",
              "      <th></th>\n",
              "      <th>TSLA</th>\n",
              "      <th>SPOT</th>\n",
              "      <th>SQ</th>\n",
              "      <th>PINS</th>\n",
              "      <th>JD</th>\n",
              "    </tr>\n",
              "  </thead>\n",
              "  <tbody>\n",
              "    <tr>\n",
              "      <th>TSLA</th>\n",
              "      <td>0.506169</td>\n",
              "      <td>0.127570</td>\n",
              "      <td>0.195006</td>\n",
              "      <td>0.182346</td>\n",
              "      <td>0.117803</td>\n",
              "    </tr>\n",
              "    <tr>\n",
              "      <th>SPOT</th>\n",
              "      <td>0.127570</td>\n",
              "      <td>0.233384</td>\n",
              "      <td>0.129888</td>\n",
              "      <td>0.118790</td>\n",
              "      <td>0.076684</td>\n",
              "    </tr>\n",
              "    <tr>\n",
              "      <th>SQ</th>\n",
              "      <td>0.195006</td>\n",
              "      <td>0.129888</td>\n",
              "      <td>0.354102</td>\n",
              "      <td>0.207585</td>\n",
              "      <td>0.115280</td>\n",
              "    </tr>\n",
              "    <tr>\n",
              "      <th>PINS</th>\n",
              "      <td>0.182346</td>\n",
              "      <td>0.118790</td>\n",
              "      <td>0.207585</td>\n",
              "      <td>0.524465</td>\n",
              "      <td>0.124657</td>\n",
              "    </tr>\n",
              "    <tr>\n",
              "      <th>JD</th>\n",
              "      <td>0.117803</td>\n",
              "      <td>0.076684</td>\n",
              "      <td>0.115280</td>\n",
              "      <td>0.124657</td>\n",
              "      <td>0.200136</td>\n",
              "    </tr>\n",
              "  </tbody>\n",
              "</table>\n",
              "</div>"
            ],
            "text/plain": [
              "          TSLA      SPOT        SQ      PINS        JD\n",
              "TSLA  0.506169  0.127570  0.195006  0.182346  0.117803\n",
              "SPOT  0.127570  0.233384  0.129888  0.118790  0.076684\n",
              "SQ    0.195006  0.129888  0.354102  0.207585  0.115280\n",
              "PINS  0.182346  0.118790  0.207585  0.524465  0.124657\n",
              "JD    0.117803  0.076684  0.115280  0.124657  0.200136"
            ]
          },
          "metadata": {
            "tags": []
          },
          "execution_count": 23
        }
      ]
    },
    {
      "cell_type": "code",
      "metadata": {
        "colab": {
          "base_uri": "https://localhost:8080/"
        },
        "id": "qKI39Ddfl94l",
        "outputId": "fd2b0766-f023-416e-c622-3a010a176db0"
      },
      "source": [
        "# Calculate the portfolio variance \n",
        "port_variance = np.dot(weights.T,np.dot(cov_matrix_annual,weights))\n",
        "port_variance"
      ],
      "execution_count": null,
      "outputs": [
        {
          "output_type": "execute_result",
          "data": {
            "text/plain": [
              "0.18437890997440703"
            ]
          },
          "metadata": {
            "tags": []
          },
          "execution_count": 24
        }
      ]
    },
    {
      "cell_type": "code",
      "metadata": {
        "colab": {
          "base_uri": "https://localhost:8080/"
        },
        "id": "1e8DxrvZmsKw",
        "outputId": "690c5e9d-ac80-4a36-fba9-047c488d0db2"
      },
      "source": [
        "# Caculate the portfolio volatility aka standard deviation \n",
        "port_volatility = np.sqrt(port_variance)\n",
        "port_volatility"
      ],
      "execution_count": null,
      "outputs": [
        {
          "output_type": "execute_result",
          "data": {
            "text/plain": [
              "0.42939365385902833"
            ]
          },
          "metadata": {
            "tags": []
          },
          "execution_count": 25
        }
      ]
    },
    {
      "cell_type": "code",
      "metadata": {
        "colab": {
          "base_uri": "https://localhost:8080/"
        },
        "id": "UU8kMku-m58s",
        "outputId": "de020db7-2f9e-4e2c-a0fe-787b479d27c5"
      },
      "source": [
        "# Calculate the annual portfolio return\n",
        "portfolio_simple_annual_return =np.sum(returns.mean()*weights) *252\n",
        "portfolio_simple_annual_return"
      ],
      "execution_count": null,
      "outputs": [
        {
          "output_type": "execute_result",
          "data": {
            "text/plain": [
              "0.7499101853128439"
            ]
          },
          "metadata": {
            "tags": []
          },
          "execution_count": 26
        }
      ]
    },
    {
      "cell_type": "code",
      "metadata": {
        "colab": {
          "base_uri": "https://localhost:8080/"
        },
        "id": "J9sAgK3CoTIY",
        "outputId": "8e3e695e-13bb-4aa5-96f2-fd4e186f0ccc"
      },
      "source": [
        "# Show the expected annual return, volatility(risk), and variance\n",
        "\n",
        "percent_var = str(round(port_variance,2)*100) + \"%\"\n",
        "percent_vols = str(round(port_volatility,2)*100) + \"%\"\n",
        "percent_ret = str(round(portfolio_simple_annual_return,2)*100) + \"%\"\n",
        "\n",
        "print(\"Expected annual return: \"+ percent_ret)\n",
        "print(\"Annual volatility/risk: \"+ percent_vols)\n",
        "print(\"Annual variance: \"+ percent_var)"
      ],
      "execution_count": null,
      "outputs": [
        {
          "output_type": "stream",
          "text": [
            "Expected annual return: 75.0%\n",
            "Annual volatility/risk: 43.0%\n",
            "Annual variance: 18.0%\n"
          ],
          "name": "stdout"
        }
      ]
    },
    {
      "cell_type": "code",
      "metadata": {
        "id": "XjFCw8ZRtaLG"
      },
      "source": [
        "## Better way to create the portfolio"
      ],
      "execution_count": null,
      "outputs": []
    },
    {
      "cell_type": "code",
      "metadata": {
        "colab": {
          "base_uri": "https://localhost:8080/"
        },
        "id": "d6j0k2P-rKQG",
        "outputId": "8323314c-cf11-48ec-89cb-8224c953004a"
      },
      "source": [
        "pip install pyPortfolioOpt"
      ],
      "execution_count": null,
      "outputs": [
        {
          "output_type": "stream",
          "text": [
            "Collecting pyPortfolioOpt\n",
            "\u001b[?25l  Downloading https://files.pythonhosted.org/packages/46/55/7d39d78d554ee33a7317e345caf01339da11406c28f18bc48794fe967935/PyPortfolioOpt-1.4.1-py3-none-any.whl (56kB)\n",
            "\u001b[K     |████████████████████████████████| 61kB 3.8MB/s \n",
            "\u001b[?25hRequirement already satisfied: scipy<2.0,>=1.3 in /usr/local/lib/python3.7/dist-packages (from pyPortfolioOpt) (1.4.1)\n",
            "Collecting cvxpy<2.0.0,>=1.1.10\n",
            "\u001b[?25l  Downloading https://files.pythonhosted.org/packages/f0/95/e7eb169a7802fe0c5c50dd7f29c2e9d357b5f29c70adc3f5ca2ab684a04b/cvxpy-1.1.13.tar.gz (1.3MB)\n",
            "\u001b[K     |████████████████████████████████| 1.3MB 7.3MB/s \n",
            "\u001b[?25h  Installing build dependencies ... \u001b[?25l\u001b[?25hdone\n",
            "  Getting requirements to build wheel ... \u001b[?25l\u001b[?25hdone\n",
            "    Preparing wheel metadata ... \u001b[?25l\u001b[?25hdone\n",
            "Requirement already satisfied: pandas>=0.19 in /usr/local/lib/python3.7/dist-packages (from pyPortfolioOpt) (1.1.5)\n",
            "Requirement already satisfied: numpy<2.0,>=1.12 in /usr/local/lib/python3.7/dist-packages (from pyPortfolioOpt) (1.19.5)\n",
            "Requirement already satisfied: ecos>=2 in /usr/local/lib/python3.7/dist-packages (from cvxpy<2.0.0,>=1.1.10->pyPortfolioOpt) (2.0.7.post1)\n",
            "Requirement already satisfied: osqp>=0.4.1 in /usr/local/lib/python3.7/dist-packages (from cvxpy<2.0.0,>=1.1.10->pyPortfolioOpt) (0.6.2.post0)\n",
            "Requirement already satisfied: scs>=1.1.6 in /usr/local/lib/python3.7/dist-packages (from cvxpy<2.0.0,>=1.1.10->pyPortfolioOpt) (2.1.3)\n",
            "Requirement already satisfied: pytz>=2017.2 in /usr/local/lib/python3.7/dist-packages (from pandas>=0.19->pyPortfolioOpt) (2018.9)\n",
            "Requirement already satisfied: python-dateutil>=2.7.3 in /usr/local/lib/python3.7/dist-packages (from pandas>=0.19->pyPortfolioOpt) (2.8.1)\n",
            "Requirement already satisfied: qdldl in /usr/local/lib/python3.7/dist-packages (from osqp>=0.4.1->cvxpy<2.0.0,>=1.1.10->pyPortfolioOpt) (0.1.5.post0)\n",
            "Requirement already satisfied: six>=1.5 in /usr/local/lib/python3.7/dist-packages (from python-dateutil>=2.7.3->pandas>=0.19->pyPortfolioOpt) (1.15.0)\n",
            "Building wheels for collected packages: cvxpy\n",
            "  Building wheel for cvxpy (PEP 517) ... \u001b[?25l\u001b[?25hdone\n",
            "  Created wheel for cvxpy: filename=cvxpy-1.1.13-cp37-cp37m-linux_x86_64.whl size=2736151 sha256=4f8b1684241bd036499926daa3764a655d4ada32b3c242bc21d8387af0e1bad9\n",
            "  Stored in directory: /root/.cache/pip/wheels/f9/78/00/f29636789ee83434953b5442f16ec3f9834a68e7fd0393c220\n",
            "Successfully built cvxpy\n",
            "Installing collected packages: cvxpy, pyPortfolioOpt\n",
            "  Found existing installation: cvxpy 1.0.31\n",
            "    Uninstalling cvxpy-1.0.31:\n",
            "      Successfully uninstalled cvxpy-1.0.31\n",
            "Successfully installed cvxpy-1.1.13 pyPortfolioOpt-1.4.1\n"
          ],
          "name": "stdout"
        }
      ]
    },
    {
      "cell_type": "code",
      "metadata": {
        "id": "bAjY8vi_rc9f"
      },
      "source": [
        "from pypfopt.efficient_frontier import EfficientFrontier\n",
        "from pypfopt import risk_models\n",
        "from pypfopt import expected_returns"
      ],
      "execution_count": null,
      "outputs": []
    },
    {
      "cell_type": "code",
      "metadata": {
        "colab": {
          "base_uri": "https://localhost:8080/"
        },
        "id": "Z4rwVTlMsNmp",
        "outputId": "67971e22-66b4-4c3b-d658-6551b01ae09b"
      },
      "source": [
        "# Portfolio Optimization!\n",
        "# Calculate the expected returns and the annualized sample covariance matrix of asset returns\n",
        "\n",
        "mu = expected_returns.mean_historical_return(df)\n",
        "S = risk_models.sample_cov(df)\n",
        "\n",
        "#Optimize for max sharpe ratio \n",
        "\n",
        "ef =  EfficientFrontier(mu, S)\n",
        "weights = ef.max_sharpe()\n",
        "cleaned_weights = ef.clean_weights()\n",
        "print(cleaned_weights)\n",
        "ef.portfolio_performance(verbose=True)"
      ],
      "execution_count": null,
      "outputs": [
        {
          "output_type": "stream",
          "text": [
            "OrderedDict([('TSLA', 0.5889), ('SPOT', 0.0), ('SQ', 0.0), ('PINS', 0.0), ('JD', 0.4111)])\n",
            "Expected annual return: 124.4%\n",
            "Annual volatility: 51.6%\n",
            "Sharpe Ratio: 2.37\n"
          ],
          "name": "stdout"
        },
        {
          "output_type": "execute_result",
          "data": {
            "text/plain": [
              "(1.2440000126862014, 0.5161417092644205, 2.3714417779384376)"
            ]
          },
          "metadata": {
            "tags": []
          },
          "execution_count": 32
        }
      ]
    },
    {
      "cell_type": "code",
      "metadata": {
        "colab": {
          "base_uri": "https://localhost:8080/"
        },
        "id": "yHBeWcp3tHSi",
        "outputId": "25824c18-1076-4006-bc53-7dfa26c631c7"
      },
      "source": [
        "0.5889 + 0.0 + 0.0 +  0.0 + + 0.0 + 0.4111"
      ],
      "execution_count": null,
      "outputs": [
        {
          "output_type": "execute_result",
          "data": {
            "text/plain": [
              "1.0"
            ]
          },
          "metadata": {
            "tags": []
          },
          "execution_count": 37
        }
      ]
    },
    {
      "cell_type": "code",
      "metadata": {
        "colab": {
          "base_uri": "https://localhost:8080/"
        },
        "id": "G2W3s7P7uGc8",
        "outputId": "6f92a536-a180-4e1c-b756-24103deb58e2"
      },
      "source": [
        "# Get the descete allocation of each share per stock\n",
        "from pypfopt.discrete_allocation import DiscreteAllocation, get_latest_prices\n",
        "\n",
        "latest_prices = get_latest_prices(df)\n",
        "weights = cleaned_weights\n",
        "da = DiscreteAllocation(weights,latest_prices,total_portfolio_value=10000)\n",
        "allocation,leftover = da.lp_portfolio()\n",
        "print(\"Discrete allocation:\", allocation)\n",
        "print(\"Funds remaining: ${:.2f}\".format(leftover))"
      ],
      "execution_count": null,
      "outputs": [
        {
          "output_type": "stream",
          "text": [
            "Discrete allocation: {'TSLA': 9, 'JD': 53}\n",
            "Funds remaining: $217.20\n"
          ],
          "name": "stdout"
        }
      ]
    },
    {
      "cell_type": "code",
      "metadata": {
        "id": "tVRbIuwjvHGf"
      },
      "source": [
        ""
      ],
      "execution_count": null,
      "outputs": []
    }
  ]
}