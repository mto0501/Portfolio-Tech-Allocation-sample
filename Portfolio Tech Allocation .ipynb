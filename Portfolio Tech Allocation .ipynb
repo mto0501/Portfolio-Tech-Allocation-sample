{
 "cells": [
  {
   "cell_type": "code",
   "execution_count": 1,
   "metadata": {},
   "outputs": [],
   "source": [
    "import pandas as pd\n",
    "import numpy as np \n",
    "from pandas_datareader import data as wb\n",
    "import matplotlib.pyplot as plt"
   ]
  },
  {
   "cell_type": "code",
   "execution_count": 2,
   "metadata": {},
   "outputs": [],
   "source": [
    "AAPL = wb.DataReader(\"AAPL\",data_source ='yahoo',start ='2016-01-01')\n",
    "AMZN =  wb.DataReader(\"AMZN\",data_source ='yahoo',start ='2016-01-01')\n",
    "NFLX =  wb.DataReader(\"NFLX\",data_source ='yahoo',start ='2016-01-01')\n",
    "FB = wb.DataReader(\"FB\",data_source ='yahoo',start ='2016-01-01')\n",
    "GOOGL = wb.DataReader(\"GOOGL\",data_source ='yahoo',start ='2016-01-01')\n"
   ]
  },
  {
   "cell_type": "code",
   "execution_count": 49,
   "metadata": {},
   "outputs": [
    {
     "data": {
      "text/html": [
       "<div>\n",
       "<style scoped>\n",
       "    .dataframe tbody tr th:only-of-type {\n",
       "        vertical-align: middle;\n",
       "    }\n",
       "\n",
       "    .dataframe tbody tr th {\n",
       "        vertical-align: top;\n",
       "    }\n",
       "\n",
       "    .dataframe thead th {\n",
       "        text-align: right;\n",
       "    }\n",
       "</style>\n",
       "<table border=\"1\" class=\"dataframe\">\n",
       "  <thead>\n",
       "    <tr style=\"text-align: right;\">\n",
       "      <th></th>\n",
       "      <th>High</th>\n",
       "      <th>Low</th>\n",
       "      <th>Open</th>\n",
       "      <th>Close</th>\n",
       "      <th>Volume</th>\n",
       "      <th>Adj Close</th>\n",
       "    </tr>\n",
       "    <tr>\n",
       "      <th>Date</th>\n",
       "      <th></th>\n",
       "      <th></th>\n",
       "      <th></th>\n",
       "      <th></th>\n",
       "      <th></th>\n",
       "      <th></th>\n",
       "    </tr>\n",
       "  </thead>\n",
       "  <tbody>\n",
       "    <tr>\n",
       "      <th>2016-01-04</th>\n",
       "      <td>26.342501</td>\n",
       "      <td>25.500000</td>\n",
       "      <td>25.652500</td>\n",
       "      <td>26.337500</td>\n",
       "      <td>270597600.0</td>\n",
       "      <td>24.323219</td>\n",
       "    </tr>\n",
       "    <tr>\n",
       "      <th>2016-01-05</th>\n",
       "      <td>26.462500</td>\n",
       "      <td>25.602501</td>\n",
       "      <td>26.437500</td>\n",
       "      <td>25.677500</td>\n",
       "      <td>223164000.0</td>\n",
       "      <td>23.713696</td>\n",
       "    </tr>\n",
       "    <tr>\n",
       "      <th>2016-01-06</th>\n",
       "      <td>25.592501</td>\n",
       "      <td>24.967501</td>\n",
       "      <td>25.139999</td>\n",
       "      <td>25.174999</td>\n",
       "      <td>273829600.0</td>\n",
       "      <td>23.249626</td>\n",
       "    </tr>\n",
       "    <tr>\n",
       "      <th>2016-01-07</th>\n",
       "      <td>25.032499</td>\n",
       "      <td>24.107500</td>\n",
       "      <td>24.670000</td>\n",
       "      <td>24.112499</td>\n",
       "      <td>324377600.0</td>\n",
       "      <td>22.268383</td>\n",
       "    </tr>\n",
       "    <tr>\n",
       "      <th>2016-01-08</th>\n",
       "      <td>24.777500</td>\n",
       "      <td>24.190001</td>\n",
       "      <td>24.637501</td>\n",
       "      <td>24.240000</td>\n",
       "      <td>283192000.0</td>\n",
       "      <td>22.386133</td>\n",
       "    </tr>\n",
       "    <tr>\n",
       "      <th>...</th>\n",
       "      <td>...</td>\n",
       "      <td>...</td>\n",
       "      <td>...</td>\n",
       "      <td>...</td>\n",
       "      <td>...</td>\n",
       "      <td>...</td>\n",
       "    </tr>\n",
       "    <tr>\n",
       "      <th>2021-05-10</th>\n",
       "      <td>129.539993</td>\n",
       "      <td>126.809998</td>\n",
       "      <td>129.410004</td>\n",
       "      <td>126.849998</td>\n",
       "      <td>88071200.0</td>\n",
       "      <td>126.849998</td>\n",
       "    </tr>\n",
       "    <tr>\n",
       "      <th>2021-05-11</th>\n",
       "      <td>126.269997</td>\n",
       "      <td>122.769997</td>\n",
       "      <td>123.500000</td>\n",
       "      <td>125.910004</td>\n",
       "      <td>126142800.0</td>\n",
       "      <td>125.910004</td>\n",
       "    </tr>\n",
       "    <tr>\n",
       "      <th>2021-05-12</th>\n",
       "      <td>124.639999</td>\n",
       "      <td>122.250000</td>\n",
       "      <td>123.400002</td>\n",
       "      <td>122.769997</td>\n",
       "      <td>112172300.0</td>\n",
       "      <td>122.769997</td>\n",
       "    </tr>\n",
       "    <tr>\n",
       "      <th>2021-05-13</th>\n",
       "      <td>126.150002</td>\n",
       "      <td>124.260002</td>\n",
       "      <td>124.580002</td>\n",
       "      <td>124.970001</td>\n",
       "      <td>105752400.0</td>\n",
       "      <td>124.970001</td>\n",
       "    </tr>\n",
       "    <tr>\n",
       "      <th>2021-05-14</th>\n",
       "      <td>127.169998</td>\n",
       "      <td>125.849998</td>\n",
       "      <td>126.250000</td>\n",
       "      <td>127.019997</td>\n",
       "      <td>43395836.0</td>\n",
       "      <td>127.019997</td>\n",
       "    </tr>\n",
       "  </tbody>\n",
       "</table>\n",
       "<p>1351 rows × 6 columns</p>\n",
       "</div>"
      ],
      "text/plain": [
       "                  High         Low        Open       Close       Volume  \\\n",
       "Date                                                                      \n",
       "2016-01-04   26.342501   25.500000   25.652500   26.337500  270597600.0   \n",
       "2016-01-05   26.462500   25.602501   26.437500   25.677500  223164000.0   \n",
       "2016-01-06   25.592501   24.967501   25.139999   25.174999  273829600.0   \n",
       "2016-01-07   25.032499   24.107500   24.670000   24.112499  324377600.0   \n",
       "2016-01-08   24.777500   24.190001   24.637501   24.240000  283192000.0   \n",
       "...                ...         ...         ...         ...          ...   \n",
       "2021-05-10  129.539993  126.809998  129.410004  126.849998   88071200.0   \n",
       "2021-05-11  126.269997  122.769997  123.500000  125.910004  126142800.0   \n",
       "2021-05-12  124.639999  122.250000  123.400002  122.769997  112172300.0   \n",
       "2021-05-13  126.150002  124.260002  124.580002  124.970001  105752400.0   \n",
       "2021-05-14  127.169998  125.849998  126.250000  127.019997   43395836.0   \n",
       "\n",
       "             Adj Close  \n",
       "Date                    \n",
       "2016-01-04   24.323219  \n",
       "2016-01-05   23.713696  \n",
       "2016-01-06   23.249626  \n",
       "2016-01-07   22.268383  \n",
       "2016-01-08   22.386133  \n",
       "...                ...  \n",
       "2021-05-10  126.849998  \n",
       "2021-05-11  125.910004  \n",
       "2021-05-12  122.769997  \n",
       "2021-05-13  124.970001  \n",
       "2021-05-14  127.019997  \n",
       "\n",
       "[1351 rows x 6 columns]"
      ]
     },
     "execution_count": 49,
     "metadata": {},
     "output_type": "execute_result"
    }
   ],
   "source": [
    "AAPL"
   ]
  },
  {
   "cell_type": "code",
   "execution_count": 3,
   "metadata": {},
   "outputs": [
    {
     "data": {
      "text/plain": [
       "24.323219299316406"
      ]
     },
     "execution_count": 3,
     "metadata": {},
     "output_type": "execute_result"
    }
   ],
   "source": [
    "AAPL.iloc[0]['Adj Close']"
   ]
  },
  {
   "cell_type": "code",
   "execution_count": 4,
   "metadata": {},
   "outputs": [],
   "source": [
    "for stock_df in (AAPL,AMZN,NFLX,FB,GOOGL):\n",
    "    stock_df['Normed Return'] = stock_df['Adj Close']/ stock_df.iloc[0]['Adj Close']"
   ]
  },
  {
   "cell_type": "code",
   "execution_count": 5,
   "metadata": {},
   "outputs": [
    {
     "data": {
      "text/html": [
       "<div>\n",
       "<style scoped>\n",
       "    .dataframe tbody tr th:only-of-type {\n",
       "        vertical-align: middle;\n",
       "    }\n",
       "\n",
       "    .dataframe tbody tr th {\n",
       "        vertical-align: top;\n",
       "    }\n",
       "\n",
       "    .dataframe thead th {\n",
       "        text-align: right;\n",
       "    }\n",
       "</style>\n",
       "<table border=\"1\" class=\"dataframe\">\n",
       "  <thead>\n",
       "    <tr style=\"text-align: right;\">\n",
       "      <th></th>\n",
       "      <th>High</th>\n",
       "      <th>Low</th>\n",
       "      <th>Open</th>\n",
       "      <th>Close</th>\n",
       "      <th>Volume</th>\n",
       "      <th>Adj Close</th>\n",
       "      <th>Normed Return</th>\n",
       "    </tr>\n",
       "    <tr>\n",
       "      <th>Date</th>\n",
       "      <th></th>\n",
       "      <th></th>\n",
       "      <th></th>\n",
       "      <th></th>\n",
       "      <th></th>\n",
       "      <th></th>\n",
       "      <th></th>\n",
       "    </tr>\n",
       "  </thead>\n",
       "  <tbody>\n",
       "    <tr>\n",
       "      <th>2016-01-04</th>\n",
       "      <td>26.342501</td>\n",
       "      <td>25.500000</td>\n",
       "      <td>25.652500</td>\n",
       "      <td>26.337500</td>\n",
       "      <td>270597600.0</td>\n",
       "      <td>24.323219</td>\n",
       "      <td>1.000000</td>\n",
       "    </tr>\n",
       "    <tr>\n",
       "      <th>2016-01-05</th>\n",
       "      <td>26.462500</td>\n",
       "      <td>25.602501</td>\n",
       "      <td>26.437500</td>\n",
       "      <td>25.677500</td>\n",
       "      <td>223164000.0</td>\n",
       "      <td>23.713696</td>\n",
       "      <td>0.974941</td>\n",
       "    </tr>\n",
       "    <tr>\n",
       "      <th>2016-01-06</th>\n",
       "      <td>25.592501</td>\n",
       "      <td>24.967501</td>\n",
       "      <td>25.139999</td>\n",
       "      <td>25.174999</td>\n",
       "      <td>273829600.0</td>\n",
       "      <td>23.249626</td>\n",
       "      <td>0.955861</td>\n",
       "    </tr>\n",
       "    <tr>\n",
       "      <th>2016-01-07</th>\n",
       "      <td>25.032499</td>\n",
       "      <td>24.107500</td>\n",
       "      <td>24.670000</td>\n",
       "      <td>24.112499</td>\n",
       "      <td>324377600.0</td>\n",
       "      <td>22.268383</td>\n",
       "      <td>0.915520</td>\n",
       "    </tr>\n",
       "    <tr>\n",
       "      <th>2016-01-08</th>\n",
       "      <td>24.777500</td>\n",
       "      <td>24.190001</td>\n",
       "      <td>24.637501</td>\n",
       "      <td>24.240000</td>\n",
       "      <td>283192000.0</td>\n",
       "      <td>22.386133</td>\n",
       "      <td>0.920361</td>\n",
       "    </tr>\n",
       "  </tbody>\n",
       "</table>\n",
       "</div>"
      ],
      "text/plain": [
       "                 High        Low       Open      Close       Volume  \\\n",
       "Date                                                                  \n",
       "2016-01-04  26.342501  25.500000  25.652500  26.337500  270597600.0   \n",
       "2016-01-05  26.462500  25.602501  26.437500  25.677500  223164000.0   \n",
       "2016-01-06  25.592501  24.967501  25.139999  25.174999  273829600.0   \n",
       "2016-01-07  25.032499  24.107500  24.670000  24.112499  324377600.0   \n",
       "2016-01-08  24.777500  24.190001  24.637501  24.240000  283192000.0   \n",
       "\n",
       "            Adj Close  Normed Return  \n",
       "Date                                  \n",
       "2016-01-04  24.323219       1.000000  \n",
       "2016-01-05  23.713696       0.974941  \n",
       "2016-01-06  23.249626       0.955861  \n",
       "2016-01-07  22.268383       0.915520  \n",
       "2016-01-08  22.386133       0.920361  "
      ]
     },
     "execution_count": 5,
     "metadata": {},
     "output_type": "execute_result"
    }
   ],
   "source": [
    "AAPL.head()"
   ]
  },
  {
   "cell_type": "code",
   "execution_count": 6,
   "metadata": {},
   "outputs": [
    {
     "data": {
      "text/html": [
       "<div>\n",
       "<style scoped>\n",
       "    .dataframe tbody tr th:only-of-type {\n",
       "        vertical-align: middle;\n",
       "    }\n",
       "\n",
       "    .dataframe tbody tr th {\n",
       "        vertical-align: top;\n",
       "    }\n",
       "\n",
       "    .dataframe thead th {\n",
       "        text-align: right;\n",
       "    }\n",
       "</style>\n",
       "<table border=\"1\" class=\"dataframe\">\n",
       "  <thead>\n",
       "    <tr style=\"text-align: right;\">\n",
       "      <th></th>\n",
       "      <th>High</th>\n",
       "      <th>Low</th>\n",
       "      <th>Open</th>\n",
       "      <th>Close</th>\n",
       "      <th>Volume</th>\n",
       "      <th>Adj Close</th>\n",
       "      <th>Normed Return</th>\n",
       "    </tr>\n",
       "    <tr>\n",
       "      <th>Date</th>\n",
       "      <th></th>\n",
       "      <th></th>\n",
       "      <th></th>\n",
       "      <th></th>\n",
       "      <th></th>\n",
       "      <th></th>\n",
       "      <th></th>\n",
       "    </tr>\n",
       "  </thead>\n",
       "  <tbody>\n",
       "    <tr>\n",
       "      <th>2021-05-10</th>\n",
       "      <td>129.539993</td>\n",
       "      <td>126.809998</td>\n",
       "      <td>129.410004</td>\n",
       "      <td>126.849998</td>\n",
       "      <td>88071200.0</td>\n",
       "      <td>126.849998</td>\n",
       "      <td>5.215181</td>\n",
       "    </tr>\n",
       "    <tr>\n",
       "      <th>2021-05-11</th>\n",
       "      <td>126.269997</td>\n",
       "      <td>122.769997</td>\n",
       "      <td>123.500000</td>\n",
       "      <td>125.910004</td>\n",
       "      <td>126142800.0</td>\n",
       "      <td>125.910004</td>\n",
       "      <td>5.176535</td>\n",
       "    </tr>\n",
       "    <tr>\n",
       "      <th>2021-05-12</th>\n",
       "      <td>124.639999</td>\n",
       "      <td>122.250000</td>\n",
       "      <td>123.400002</td>\n",
       "      <td>122.769997</td>\n",
       "      <td>112172300.0</td>\n",
       "      <td>122.769997</td>\n",
       "      <td>5.047440</td>\n",
       "    </tr>\n",
       "    <tr>\n",
       "      <th>2021-05-13</th>\n",
       "      <td>126.150002</td>\n",
       "      <td>124.260002</td>\n",
       "      <td>124.580002</td>\n",
       "      <td>124.970001</td>\n",
       "      <td>105861300.0</td>\n",
       "      <td>124.970001</td>\n",
       "      <td>5.137889</td>\n",
       "    </tr>\n",
       "    <tr>\n",
       "      <th>2021-05-14</th>\n",
       "      <td>127.889999</td>\n",
       "      <td>125.849998</td>\n",
       "      <td>126.250000</td>\n",
       "      <td>127.449997</td>\n",
       "      <td>81806500.0</td>\n",
       "      <td>127.449997</td>\n",
       "      <td>5.239849</td>\n",
       "    </tr>\n",
       "  </tbody>\n",
       "</table>\n",
       "</div>"
      ],
      "text/plain": [
       "                  High         Low        Open       Close       Volume  \\\n",
       "Date                                                                      \n",
       "2021-05-10  129.539993  126.809998  129.410004  126.849998   88071200.0   \n",
       "2021-05-11  126.269997  122.769997  123.500000  125.910004  126142800.0   \n",
       "2021-05-12  124.639999  122.250000  123.400002  122.769997  112172300.0   \n",
       "2021-05-13  126.150002  124.260002  124.580002  124.970001  105861300.0   \n",
       "2021-05-14  127.889999  125.849998  126.250000  127.449997   81806500.0   \n",
       "\n",
       "             Adj Close  Normed Return  \n",
       "Date                                   \n",
       "2021-05-10  126.849998       5.215181  \n",
       "2021-05-11  125.910004       5.176535  \n",
       "2021-05-12  122.769997       5.047440  \n",
       "2021-05-13  124.970001       5.137889  \n",
       "2021-05-14  127.449997       5.239849  "
      ]
     },
     "execution_count": 6,
     "metadata": {},
     "output_type": "execute_result"
    }
   ],
   "source": [
    "AAPL.tail()"
   ]
  },
  {
   "cell_type": "markdown",
   "metadata": {},
   "source": [
    "30% in AAPLE\n",
    "\n",
    "20% in AMAZON\n",
    "\n",
    "20% in NETFLIX\n",
    "\n",
    "10% in GOOGLE\n",
    "\n",
    "20% in FACEBOOK\n"
   ]
  },
  {
   "cell_type": "code",
   "execution_count": 7,
   "metadata": {},
   "outputs": [],
   "source": [
    "for stock_df, allo in zip((AAPL,AMZN,NFLX,GOOGL,FB),[.3,.2,.2,.1,.2]):\n",
    "     stock_df[\"allocation\"] = stock_df['Normed Return'] * allo"
   ]
  },
  {
   "cell_type": "code",
   "execution_count": 57,
   "metadata": {},
   "outputs": [
    {
     "data": {
      "text/html": [
       "<div>\n",
       "<style scoped>\n",
       "    .dataframe tbody tr th:only-of-type {\n",
       "        vertical-align: middle;\n",
       "    }\n",
       "\n",
       "    .dataframe tbody tr th {\n",
       "        vertical-align: top;\n",
       "    }\n",
       "\n",
       "    .dataframe thead th {\n",
       "        text-align: right;\n",
       "    }\n",
       "</style>\n",
       "<table border=\"1\" class=\"dataframe\">\n",
       "  <thead>\n",
       "    <tr style=\"text-align: right;\">\n",
       "      <th></th>\n",
       "      <th>High</th>\n",
       "      <th>Low</th>\n",
       "      <th>Open</th>\n",
       "      <th>Close</th>\n",
       "      <th>Volume</th>\n",
       "      <th>Adj Close</th>\n",
       "      <th>Normed Return</th>\n",
       "      <th>allocation</th>\n",
       "    </tr>\n",
       "    <tr>\n",
       "      <th>Date</th>\n",
       "      <th></th>\n",
       "      <th></th>\n",
       "      <th></th>\n",
       "      <th></th>\n",
       "      <th></th>\n",
       "      <th></th>\n",
       "      <th></th>\n",
       "      <th></th>\n",
       "    </tr>\n",
       "  </thead>\n",
       "  <tbody>\n",
       "    <tr>\n",
       "      <th>2016-01-04</th>\n",
       "      <td>26.342501</td>\n",
       "      <td>25.500000</td>\n",
       "      <td>25.652500</td>\n",
       "      <td>26.337500</td>\n",
       "      <td>270597600.0</td>\n",
       "      <td>24.323219</td>\n",
       "      <td>1.000000</td>\n",
       "      <td>0.300000</td>\n",
       "    </tr>\n",
       "    <tr>\n",
       "      <th>2016-01-05</th>\n",
       "      <td>26.462500</td>\n",
       "      <td>25.602501</td>\n",
       "      <td>26.437500</td>\n",
       "      <td>25.677500</td>\n",
       "      <td>223164000.0</td>\n",
       "      <td>23.713696</td>\n",
       "      <td>0.974941</td>\n",
       "      <td>0.292482</td>\n",
       "    </tr>\n",
       "    <tr>\n",
       "      <th>2016-01-06</th>\n",
       "      <td>25.592501</td>\n",
       "      <td>24.967501</td>\n",
       "      <td>25.139999</td>\n",
       "      <td>25.174999</td>\n",
       "      <td>273829600.0</td>\n",
       "      <td>23.249626</td>\n",
       "      <td>0.955861</td>\n",
       "      <td>0.286758</td>\n",
       "    </tr>\n",
       "    <tr>\n",
       "      <th>2016-01-07</th>\n",
       "      <td>25.032499</td>\n",
       "      <td>24.107500</td>\n",
       "      <td>24.670000</td>\n",
       "      <td>24.112499</td>\n",
       "      <td>324377600.0</td>\n",
       "      <td>22.268383</td>\n",
       "      <td>0.915520</td>\n",
       "      <td>0.274656</td>\n",
       "    </tr>\n",
       "    <tr>\n",
       "      <th>2016-01-08</th>\n",
       "      <td>24.777500</td>\n",
       "      <td>24.190001</td>\n",
       "      <td>24.637501</td>\n",
       "      <td>24.240000</td>\n",
       "      <td>283192000.0</td>\n",
       "      <td>22.386133</td>\n",
       "      <td>0.920361</td>\n",
       "      <td>0.276108</td>\n",
       "    </tr>\n",
       "  </tbody>\n",
       "</table>\n",
       "</div>"
      ],
      "text/plain": [
       "                 High        Low       Open      Close       Volume  \\\n",
       "Date                                                                  \n",
       "2016-01-04  26.342501  25.500000  25.652500  26.337500  270597600.0   \n",
       "2016-01-05  26.462500  25.602501  26.437500  25.677500  223164000.0   \n",
       "2016-01-06  25.592501  24.967501  25.139999  25.174999  273829600.0   \n",
       "2016-01-07  25.032499  24.107500  24.670000  24.112499  324377600.0   \n",
       "2016-01-08  24.777500  24.190001  24.637501  24.240000  283192000.0   \n",
       "\n",
       "            Adj Close  Normed Return  allocation  \n",
       "Date                                              \n",
       "2016-01-04  24.323219       1.000000    0.300000  \n",
       "2016-01-05  23.713696       0.974941    0.292482  \n",
       "2016-01-06  23.249626       0.955861    0.286758  \n",
       "2016-01-07  22.268383       0.915520    0.274656  \n",
       "2016-01-08  22.386133       0.920361    0.276108  "
      ]
     },
     "execution_count": 57,
     "metadata": {},
     "output_type": "execute_result"
    }
   ],
   "source": [
    "AAPL.head()"
   ]
  },
  {
   "cell_type": "markdown",
   "metadata": {},
   "source": [
    "What if you invest $1M at that time ?"
   ]
  },
  {
   "cell_type": "code",
   "execution_count": 8,
   "metadata": {},
   "outputs": [],
   "source": [
    "for stock_df in (AAPL,AMZN,NFLX,GOOGL,FB):\n",
    "    stock_df['Postion Values'] = stock_df[\"allocation\"]*100000"
   ]
  },
  {
   "cell_type": "code",
   "execution_count": 63,
   "metadata": {},
   "outputs": [
    {
     "data": {
      "text/html": [
       "<div>\n",
       "<style scoped>\n",
       "    .dataframe tbody tr th:only-of-type {\n",
       "        vertical-align: middle;\n",
       "    }\n",
       "\n",
       "    .dataframe tbody tr th {\n",
       "        vertical-align: top;\n",
       "    }\n",
       "\n",
       "    .dataframe thead th {\n",
       "        text-align: right;\n",
       "    }\n",
       "</style>\n",
       "<table border=\"1\" class=\"dataframe\">\n",
       "  <thead>\n",
       "    <tr style=\"text-align: right;\">\n",
       "      <th></th>\n",
       "      <th>High</th>\n",
       "      <th>Low</th>\n",
       "      <th>Open</th>\n",
       "      <th>Close</th>\n",
       "      <th>Volume</th>\n",
       "      <th>Adj Close</th>\n",
       "      <th>Normed Return</th>\n",
       "      <th>allocation</th>\n",
       "      <th>Postion Values</th>\n",
       "    </tr>\n",
       "    <tr>\n",
       "      <th>Date</th>\n",
       "      <th></th>\n",
       "      <th></th>\n",
       "      <th></th>\n",
       "      <th></th>\n",
       "      <th></th>\n",
       "      <th></th>\n",
       "      <th></th>\n",
       "      <th></th>\n",
       "      <th></th>\n",
       "    </tr>\n",
       "  </thead>\n",
       "  <tbody>\n",
       "    <tr>\n",
       "      <th>2016-01-04</th>\n",
       "      <td>26.342501</td>\n",
       "      <td>25.500000</td>\n",
       "      <td>25.652500</td>\n",
       "      <td>26.337500</td>\n",
       "      <td>270597600.0</td>\n",
       "      <td>24.323219</td>\n",
       "      <td>1.000000</td>\n",
       "      <td>0.300000</td>\n",
       "      <td>30000.000000</td>\n",
       "    </tr>\n",
       "    <tr>\n",
       "      <th>2016-01-05</th>\n",
       "      <td>26.462500</td>\n",
       "      <td>25.602501</td>\n",
       "      <td>26.437500</td>\n",
       "      <td>25.677500</td>\n",
       "      <td>223164000.0</td>\n",
       "      <td>23.713696</td>\n",
       "      <td>0.974941</td>\n",
       "      <td>0.292482</td>\n",
       "      <td>29248.219861</td>\n",
       "    </tr>\n",
       "    <tr>\n",
       "      <th>2016-01-06</th>\n",
       "      <td>25.592501</td>\n",
       "      <td>24.967501</td>\n",
       "      <td>25.139999</td>\n",
       "      <td>25.174999</td>\n",
       "      <td>273829600.0</td>\n",
       "      <td>23.249626</td>\n",
       "      <td>0.955861</td>\n",
       "      <td>0.286758</td>\n",
       "      <td>28675.841640</td>\n",
       "    </tr>\n",
       "    <tr>\n",
       "      <th>2016-01-07</th>\n",
       "      <td>25.032499</td>\n",
       "      <td>24.107500</td>\n",
       "      <td>24.670000</td>\n",
       "      <td>24.112499</td>\n",
       "      <td>324377600.0</td>\n",
       "      <td>22.268383</td>\n",
       "      <td>0.915520</td>\n",
       "      <td>0.274656</td>\n",
       "      <td>27465.586794</td>\n",
       "    </tr>\n",
       "    <tr>\n",
       "      <th>2016-01-08</th>\n",
       "      <td>24.777500</td>\n",
       "      <td>24.190001</td>\n",
       "      <td>24.637501</td>\n",
       "      <td>24.240000</td>\n",
       "      <td>283192000.0</td>\n",
       "      <td>22.386133</td>\n",
       "      <td>0.920361</td>\n",
       "      <td>0.276108</td>\n",
       "      <td>27610.818599</td>\n",
       "    </tr>\n",
       "  </tbody>\n",
       "</table>\n",
       "</div>"
      ],
      "text/plain": [
       "                 High        Low       Open      Close       Volume  \\\n",
       "Date                                                                  \n",
       "2016-01-04  26.342501  25.500000  25.652500  26.337500  270597600.0   \n",
       "2016-01-05  26.462500  25.602501  26.437500  25.677500  223164000.0   \n",
       "2016-01-06  25.592501  24.967501  25.139999  25.174999  273829600.0   \n",
       "2016-01-07  25.032499  24.107500  24.670000  24.112499  324377600.0   \n",
       "2016-01-08  24.777500  24.190001  24.637501  24.240000  283192000.0   \n",
       "\n",
       "            Adj Close  Normed Return  allocation  Postion Values  \n",
       "Date                                                              \n",
       "2016-01-04  24.323219       1.000000    0.300000    30000.000000  \n",
       "2016-01-05  23.713696       0.974941    0.292482    29248.219861  \n",
       "2016-01-06  23.249626       0.955861    0.286758    28675.841640  \n",
       "2016-01-07  22.268383       0.915520    0.274656    27465.586794  \n",
       "2016-01-08  22.386133       0.920361    0.276108    27610.818599  "
      ]
     },
     "execution_count": 63,
     "metadata": {},
     "output_type": "execute_result"
    }
   ],
   "source": [
    "AAPL.head()"
   ]
  },
  {
   "cell_type": "code",
   "execution_count": 9,
   "metadata": {},
   "outputs": [],
   "source": [
    "tickers = [AAPL['Postion Values'],AMZN['Postion Values'],NFLX['Postion Values'],GOOGL['Postion Values'],FB['Postion Values']]\n",
    "portfolio_val = pd.concat(tickers,axis =1)"
   ]
  },
  {
   "cell_type": "code",
   "execution_count": 10,
   "metadata": {},
   "outputs": [
    {
     "data": {
      "text/html": [
       "<div>\n",
       "<style scoped>\n",
       "    .dataframe tbody tr th:only-of-type {\n",
       "        vertical-align: middle;\n",
       "    }\n",
       "\n",
       "    .dataframe tbody tr th {\n",
       "        vertical-align: top;\n",
       "    }\n",
       "\n",
       "    .dataframe thead th {\n",
       "        text-align: right;\n",
       "    }\n",
       "</style>\n",
       "<table border=\"1\" class=\"dataframe\">\n",
       "  <thead>\n",
       "    <tr style=\"text-align: right;\">\n",
       "      <th></th>\n",
       "      <th>Postion Values</th>\n",
       "      <th>Postion Values</th>\n",
       "      <th>Postion Values</th>\n",
       "      <th>Postion Values</th>\n",
       "      <th>Postion Values</th>\n",
       "    </tr>\n",
       "    <tr>\n",
       "      <th>Date</th>\n",
       "      <th></th>\n",
       "      <th></th>\n",
       "      <th></th>\n",
       "      <th></th>\n",
       "      <th></th>\n",
       "    </tr>\n",
       "  </thead>\n",
       "  <tbody>\n",
       "    <tr>\n",
       "      <th>2016-01-04</th>\n",
       "      <td>30000.000000</td>\n",
       "      <td>20000.000000</td>\n",
       "      <td>20000.000000</td>\n",
       "      <td>10000.000000</td>\n",
       "      <td>20000.000000</td>\n",
       "    </tr>\n",
       "    <tr>\n",
       "      <th>2016-01-05</th>\n",
       "      <td>29248.219861</td>\n",
       "      <td>19899.527080</td>\n",
       "      <td>19581.666890</td>\n",
       "      <td>10027.520632</td>\n",
       "      <td>20099.785195</td>\n",
       "    </tr>\n",
       "    <tr>\n",
       "      <th>2016-01-06</th>\n",
       "      <td>28675.841640</td>\n",
       "      <td>19863.735196</td>\n",
       "      <td>21404.147196</td>\n",
       "      <td>9998.551757</td>\n",
       "      <td>20146.742319</td>\n",
       "    </tr>\n",
       "    <tr>\n",
       "      <th>2016-01-07</th>\n",
       "      <td>27465.586794</td>\n",
       "      <td>19087.898138</td>\n",
       "      <td>20836.667609</td>\n",
       "      <td>9757.189477</td>\n",
       "      <td>19158.676776</td>\n",
       "    </tr>\n",
       "    <tr>\n",
       "      <th>2016-01-08</th>\n",
       "      <td>27610.818599</td>\n",
       "      <td>19059.953754</td>\n",
       "      <td>20260.094638</td>\n",
       "      <td>9624.328068</td>\n",
       "      <td>19043.240201</td>\n",
       "    </tr>\n",
       "  </tbody>\n",
       "</table>\n",
       "</div>"
      ],
      "text/plain": [
       "            Postion Values  Postion Values  Postion Values  Postion Values  \\\n",
       "Date                                                                         \n",
       "2016-01-04    30000.000000    20000.000000    20000.000000    10000.000000   \n",
       "2016-01-05    29248.219861    19899.527080    19581.666890    10027.520632   \n",
       "2016-01-06    28675.841640    19863.735196    21404.147196     9998.551757   \n",
       "2016-01-07    27465.586794    19087.898138    20836.667609     9757.189477   \n",
       "2016-01-08    27610.818599    19059.953754    20260.094638     9624.328068   \n",
       "\n",
       "            Postion Values  \n",
       "Date                        \n",
       "2016-01-04    20000.000000  \n",
       "2016-01-05    20099.785195  \n",
       "2016-01-06    20146.742319  \n",
       "2016-01-07    19158.676776  \n",
       "2016-01-08    19043.240201  "
      ]
     },
     "execution_count": 10,
     "metadata": {},
     "output_type": "execute_result"
    }
   ],
   "source": [
    "portfolio_val.head()"
   ]
  },
  {
   "cell_type": "code",
   "execution_count": 11,
   "metadata": {},
   "outputs": [],
   "source": [
    "portfolio_val.columns =['AAPL','AMZN','NFLX','GOOGL','FB']"
   ]
  },
  {
   "cell_type": "code",
   "execution_count": 12,
   "metadata": {},
   "outputs": [
    {
     "data": {
      "text/html": [
       "<div>\n",
       "<style scoped>\n",
       "    .dataframe tbody tr th:only-of-type {\n",
       "        vertical-align: middle;\n",
       "    }\n",
       "\n",
       "    .dataframe tbody tr th {\n",
       "        vertical-align: top;\n",
       "    }\n",
       "\n",
       "    .dataframe thead th {\n",
       "        text-align: right;\n",
       "    }\n",
       "</style>\n",
       "<table border=\"1\" class=\"dataframe\">\n",
       "  <thead>\n",
       "    <tr style=\"text-align: right;\">\n",
       "      <th></th>\n",
       "      <th>AAPL</th>\n",
       "      <th>AMZN</th>\n",
       "      <th>NFLX</th>\n",
       "      <th>GOOGL</th>\n",
       "      <th>FB</th>\n",
       "    </tr>\n",
       "    <tr>\n",
       "      <th>Date</th>\n",
       "      <th></th>\n",
       "      <th></th>\n",
       "      <th></th>\n",
       "      <th></th>\n",
       "      <th></th>\n",
       "    </tr>\n",
       "  </thead>\n",
       "  <tbody>\n",
       "    <tr>\n",
       "      <th>2016-01-04</th>\n",
       "      <td>30000.000000</td>\n",
       "      <td>20000.000000</td>\n",
       "      <td>20000.000000</td>\n",
       "      <td>10000.000000</td>\n",
       "      <td>20000.000000</td>\n",
       "    </tr>\n",
       "    <tr>\n",
       "      <th>2016-01-05</th>\n",
       "      <td>29248.219861</td>\n",
       "      <td>19899.527080</td>\n",
       "      <td>19581.666890</td>\n",
       "      <td>10027.520632</td>\n",
       "      <td>20099.785195</td>\n",
       "    </tr>\n",
       "    <tr>\n",
       "      <th>2016-01-06</th>\n",
       "      <td>28675.841640</td>\n",
       "      <td>19863.735196</td>\n",
       "      <td>21404.147196</td>\n",
       "      <td>9998.551757</td>\n",
       "      <td>20146.742319</td>\n",
       "    </tr>\n",
       "    <tr>\n",
       "      <th>2016-01-07</th>\n",
       "      <td>27465.586794</td>\n",
       "      <td>19087.898138</td>\n",
       "      <td>20836.667609</td>\n",
       "      <td>9757.189477</td>\n",
       "      <td>19158.676776</td>\n",
       "    </tr>\n",
       "    <tr>\n",
       "      <th>2016-01-08</th>\n",
       "      <td>27610.818599</td>\n",
       "      <td>19059.953754</td>\n",
       "      <td>20260.094638</td>\n",
       "      <td>9624.328068</td>\n",
       "      <td>19043.240201</td>\n",
       "    </tr>\n",
       "  </tbody>\n",
       "</table>\n",
       "</div>"
      ],
      "text/plain": [
       "                    AAPL          AMZN          NFLX         GOOGL  \\\n",
       "Date                                                                 \n",
       "2016-01-04  30000.000000  20000.000000  20000.000000  10000.000000   \n",
       "2016-01-05  29248.219861  19899.527080  19581.666890  10027.520632   \n",
       "2016-01-06  28675.841640  19863.735196  21404.147196   9998.551757   \n",
       "2016-01-07  27465.586794  19087.898138  20836.667609   9757.189477   \n",
       "2016-01-08  27610.818599  19059.953754  20260.094638   9624.328068   \n",
       "\n",
       "                      FB  \n",
       "Date                      \n",
       "2016-01-04  20000.000000  \n",
       "2016-01-05  20099.785195  \n",
       "2016-01-06  20146.742319  \n",
       "2016-01-07  19158.676776  \n",
       "2016-01-08  19043.240201  "
      ]
     },
     "execution_count": 12,
     "metadata": {},
     "output_type": "execute_result"
    }
   ],
   "source": [
    "portfolio_val.head()"
   ]
  },
  {
   "cell_type": "code",
   "execution_count": 13,
   "metadata": {},
   "outputs": [],
   "source": [
    "portfolio_val['Total Position'] = portfolio_val.sum(axis=1)"
   ]
  },
  {
   "cell_type": "code",
   "execution_count": 14,
   "metadata": {},
   "outputs": [
    {
     "data": {
      "text/html": [
       "<div>\n",
       "<style scoped>\n",
       "    .dataframe tbody tr th:only-of-type {\n",
       "        vertical-align: middle;\n",
       "    }\n",
       "\n",
       "    .dataframe tbody tr th {\n",
       "        vertical-align: top;\n",
       "    }\n",
       "\n",
       "    .dataframe thead th {\n",
       "        text-align: right;\n",
       "    }\n",
       "</style>\n",
       "<table border=\"1\" class=\"dataframe\">\n",
       "  <thead>\n",
       "    <tr style=\"text-align: right;\">\n",
       "      <th></th>\n",
       "      <th>AAPL</th>\n",
       "      <th>AMZN</th>\n",
       "      <th>NFLX</th>\n",
       "      <th>GOOGL</th>\n",
       "      <th>FB</th>\n",
       "      <th>Total Position</th>\n",
       "    </tr>\n",
       "    <tr>\n",
       "      <th>Date</th>\n",
       "      <th></th>\n",
       "      <th></th>\n",
       "      <th></th>\n",
       "      <th></th>\n",
       "      <th></th>\n",
       "      <th></th>\n",
       "    </tr>\n",
       "  </thead>\n",
       "  <tbody>\n",
       "    <tr>\n",
       "      <th>2016-01-04</th>\n",
       "      <td>30000.000000</td>\n",
       "      <td>20000.000000</td>\n",
       "      <td>20000.000000</td>\n",
       "      <td>10000.000000</td>\n",
       "      <td>20000.000000</td>\n",
       "      <td>100000.000000</td>\n",
       "    </tr>\n",
       "    <tr>\n",
       "      <th>2016-01-05</th>\n",
       "      <td>29248.219861</td>\n",
       "      <td>19899.527080</td>\n",
       "      <td>19581.666890</td>\n",
       "      <td>10027.520632</td>\n",
       "      <td>20099.785195</td>\n",
       "      <td>98856.719657</td>\n",
       "    </tr>\n",
       "    <tr>\n",
       "      <th>2016-01-06</th>\n",
       "      <td>28675.841640</td>\n",
       "      <td>19863.735196</td>\n",
       "      <td>21404.147196</td>\n",
       "      <td>9998.551757</td>\n",
       "      <td>20146.742319</td>\n",
       "      <td>100089.018107</td>\n",
       "    </tr>\n",
       "    <tr>\n",
       "      <th>2016-01-07</th>\n",
       "      <td>27465.586794</td>\n",
       "      <td>19087.898138</td>\n",
       "      <td>20836.667609</td>\n",
       "      <td>9757.189477</td>\n",
       "      <td>19158.676776</td>\n",
       "      <td>96306.018794</td>\n",
       "    </tr>\n",
       "    <tr>\n",
       "      <th>2016-01-08</th>\n",
       "      <td>27610.818599</td>\n",
       "      <td>19059.953754</td>\n",
       "      <td>20260.094638</td>\n",
       "      <td>9624.328068</td>\n",
       "      <td>19043.240201</td>\n",
       "      <td>95598.435260</td>\n",
       "    </tr>\n",
       "    <tr>\n",
       "      <th>...</th>\n",
       "      <td>...</td>\n",
       "      <td>...</td>\n",
       "      <td>...</td>\n",
       "      <td>...</td>\n",
       "      <td>...</td>\n",
       "      <td>...</td>\n",
       "    </tr>\n",
       "    <tr>\n",
       "      <th>2021-05-10</th>\n",
       "      <td>156455.439035</td>\n",
       "      <td>100173.944305</td>\n",
       "      <td>88521.281647</td>\n",
       "      <td>30176.840733</td>\n",
       "      <td>59864.996589</td>\n",
       "      <td>435192.502309</td>\n",
       "    </tr>\n",
       "    <tr>\n",
       "      <th>2021-05-11</th>\n",
       "      <td>155296.059431</td>\n",
       "      <td>101223.251905</td>\n",
       "      <td>90047.288231</td>\n",
       "      <td>29891.236323</td>\n",
       "      <td>59974.563709</td>\n",
       "      <td>436432.399599</td>\n",
       "    </tr>\n",
       "    <tr>\n",
       "      <th>2021-05-12</th>\n",
       "      <td>151423.208169</td>\n",
       "      <td>98963.562685</td>\n",
       "      <td>88210.261008</td>\n",
       "      <td>28972.005595</td>\n",
       "      <td>59195.848988</td>\n",
       "      <td>426764.886446</td>\n",
       "    </tr>\n",
       "    <tr>\n",
       "      <th>2021-05-13</th>\n",
       "      <td>154136.670417</td>\n",
       "      <td>99262.783377</td>\n",
       "      <td>88515.825339</td>\n",
       "      <td>29351.101231</td>\n",
       "      <td>59726.082199</td>\n",
       "      <td>430992.462564</td>\n",
       "    </tr>\n",
       "    <tr>\n",
       "      <th>2021-05-14</th>\n",
       "      <td>157195.470772</td>\n",
       "      <td>101191.539954</td>\n",
       "      <td>89736.267593</td>\n",
       "      <td>30000.788416</td>\n",
       "      <td>61815.691385</td>\n",
       "      <td>439939.758120</td>\n",
       "    </tr>\n",
       "  </tbody>\n",
       "</table>\n",
       "<p>1351 rows × 6 columns</p>\n",
       "</div>"
      ],
      "text/plain": [
       "                     AAPL           AMZN          NFLX         GOOGL  \\\n",
       "Date                                                                   \n",
       "2016-01-04   30000.000000   20000.000000  20000.000000  10000.000000   \n",
       "2016-01-05   29248.219861   19899.527080  19581.666890  10027.520632   \n",
       "2016-01-06   28675.841640   19863.735196  21404.147196   9998.551757   \n",
       "2016-01-07   27465.586794   19087.898138  20836.667609   9757.189477   \n",
       "2016-01-08   27610.818599   19059.953754  20260.094638   9624.328068   \n",
       "...                   ...            ...           ...           ...   \n",
       "2021-05-10  156455.439035  100173.944305  88521.281647  30176.840733   \n",
       "2021-05-11  155296.059431  101223.251905  90047.288231  29891.236323   \n",
       "2021-05-12  151423.208169   98963.562685  88210.261008  28972.005595   \n",
       "2021-05-13  154136.670417   99262.783377  88515.825339  29351.101231   \n",
       "2021-05-14  157195.470772  101191.539954  89736.267593  30000.788416   \n",
       "\n",
       "                      FB  Total Position  \n",
       "Date                                      \n",
       "2016-01-04  20000.000000   100000.000000  \n",
       "2016-01-05  20099.785195    98856.719657  \n",
       "2016-01-06  20146.742319   100089.018107  \n",
       "2016-01-07  19158.676776    96306.018794  \n",
       "2016-01-08  19043.240201    95598.435260  \n",
       "...                  ...             ...  \n",
       "2021-05-10  59864.996589   435192.502309  \n",
       "2021-05-11  59974.563709   436432.399599  \n",
       "2021-05-12  59195.848988   426764.886446  \n",
       "2021-05-13  59726.082199   430992.462564  \n",
       "2021-05-14  61815.691385   439939.758120  \n",
       "\n",
       "[1351 rows x 6 columns]"
      ]
     },
     "execution_count": 14,
     "metadata": {},
     "output_type": "execute_result"
    }
   ],
   "source": [
    "portfolio_val"
   ]
  },
  {
   "cell_type": "code",
   "execution_count": 15,
   "metadata": {},
   "outputs": [],
   "source": [
    "import matplotlib.pyplot as plt\n",
    "%matplotlib inline"
   ]
  },
  {
   "cell_type": "code",
   "execution_count": 16,
   "metadata": {},
   "outputs": [
    {
     "data": {
      "text/plain": [
       "Text(0.5, 1.0, 'Total Portfolio Value')"
      ]
     },
     "execution_count": 16,
     "metadata": {},
     "output_type": "execute_result"
    },
    {
     "data": {
      "image/png": "[encoded data removed]",
      "text/plain": [
       "<Figure size 1296x648 with 1 Axes>"
      ]
     },
     "metadata": {
      "needs_background": "light"
     },
     "output_type": "display_data"
    }
   ],
   "source": [
    "portfolio_val['Total Position'].plot(figsize=(18,9))\n",
    "plt.title('Total Portfolio Value')"
   ]
  },
  {
   "cell_type": "code",
   "execution_count": 18,
   "metadata": {},
   "outputs": [
    {
     "data": {
      "text/plain": [
       "<AxesSubplot:xlabel='Date'>"
      ]
     },
     "execution_count": 18,
     "metadata": {},
     "output_type": "execute_result"
    },
    {
     "data": {
      "image/png": "[encoded data removed]",
      "text/plain": [
       "<Figure size 1296x648 with 1 Axes>"
      ]
     },
     "metadata": {
      "needs_background": "light"
     },
     "output_type": "display_data"
    }
   ],
   "source": [
    "#Plot individual position:\n",
    "portfolio_val.drop('Total Position',axis=1).plot(figsize=(18,9))"
   ]
  },
  {
   "cell_type": "markdown",
   "metadata": {},
   "source": [
    "Portfolio Stats:\n",
    "=="
   ]
  },
  {
   "cell_type": "markdown",
   "metadata": {},
   "source": [
    "Daily return: "
   ]
  },
  {
   "cell_type": "code",
   "execution_count": 21,
   "metadata": {},
   "outputs": [
    {
     "data": {
      "text/html": [
       "<div>\n",
       "<style scoped>\n",
       "    .dataframe tbody tr th:only-of-type {\n",
       "        vertical-align: middle;\n",
       "    }\n",
       "\n",
       "    .dataframe tbody tr th {\n",
       "        vertical-align: top;\n",
       "    }\n",
       "\n",
       "    .dataframe thead th {\n",
       "        text-align: right;\n",
       "    }\n",
       "</style>\n",
       "<table border=\"1\" class=\"dataframe\">\n",
       "  <thead>\n",
       "    <tr style=\"text-align: right;\">\n",
       "      <th></th>\n",
       "      <th>AAPL</th>\n",
       "      <th>AMZN</th>\n",
       "      <th>NFLX</th>\n",
       "      <th>GOOGL</th>\n",
       "      <th>FB</th>\n",
       "      <th>Total Position</th>\n",
       "    </tr>\n",
       "    <tr>\n",
       "      <th>Date</th>\n",
       "      <th></th>\n",
       "      <th></th>\n",
       "      <th></th>\n",
       "      <th></th>\n",
       "      <th></th>\n",
       "      <th></th>\n",
       "    </tr>\n",
       "  </thead>\n",
       "  <tbody>\n",
       "    <tr>\n",
       "      <th>2016-01-04</th>\n",
       "      <td>30000.000000</td>\n",
       "      <td>20000.000000</td>\n",
       "      <td>20000.000000</td>\n",
       "      <td>10000.000000</td>\n",
       "      <td>20000.000000</td>\n",
       "      <td>100000.000000</td>\n",
       "    </tr>\n",
       "    <tr>\n",
       "      <th>2016-01-05</th>\n",
       "      <td>29248.219861</td>\n",
       "      <td>19899.527080</td>\n",
       "      <td>19581.666890</td>\n",
       "      <td>10027.520632</td>\n",
       "      <td>20099.785195</td>\n",
       "      <td>98856.719657</td>\n",
       "    </tr>\n",
       "    <tr>\n",
       "      <th>2016-01-06</th>\n",
       "      <td>28675.841640</td>\n",
       "      <td>19863.735196</td>\n",
       "      <td>21404.147196</td>\n",
       "      <td>9998.551757</td>\n",
       "      <td>20146.742319</td>\n",
       "      <td>100089.018107</td>\n",
       "    </tr>\n",
       "    <tr>\n",
       "      <th>2016-01-07</th>\n",
       "      <td>27465.586794</td>\n",
       "      <td>19087.898138</td>\n",
       "      <td>20836.667609</td>\n",
       "      <td>9757.189477</td>\n",
       "      <td>19158.676776</td>\n",
       "      <td>96306.018794</td>\n",
       "    </tr>\n",
       "    <tr>\n",
       "      <th>2016-01-08</th>\n",
       "      <td>27610.818599</td>\n",
       "      <td>19059.953754</td>\n",
       "      <td>20260.094638</td>\n",
       "      <td>9624.328068</td>\n",
       "      <td>19043.240201</td>\n",
       "      <td>95598.435260</td>\n",
       "    </tr>\n",
       "  </tbody>\n",
       "</table>\n",
       "</div>"
      ],
      "text/plain": [
       "                    AAPL          AMZN          NFLX         GOOGL  \\\n",
       "Date                                                                 \n",
       "2016-01-04  30000.000000  20000.000000  20000.000000  10000.000000   \n",
       "2016-01-05  29248.219861  19899.527080  19581.666890  10027.520632   \n",
       "2016-01-06  28675.841640  19863.735196  21404.147196   9998.551757   \n",
       "2016-01-07  27465.586794  19087.898138  20836.667609   9757.189477   \n",
       "2016-01-08  27610.818599  19059.953754  20260.094638   9624.328068   \n",
       "\n",
       "                      FB  Total Position  \n",
       "Date                                      \n",
       "2016-01-04  20000.000000   100000.000000  \n",
       "2016-01-05  20099.785195    98856.719657  \n",
       "2016-01-06  20146.742319   100089.018107  \n",
       "2016-01-07  19158.676776    96306.018794  \n",
       "2016-01-08  19043.240201    95598.435260  "
      ]
     },
     "execution_count": 21,
     "metadata": {},
     "output_type": "execute_result"
    }
   ],
   "source": [
    "portfolio_val.head()"
   ]
  },
  {
   "cell_type": "code",
   "execution_count": 22,
   "metadata": {},
   "outputs": [],
   "source": [
    "portfolio_val['Daily Return'] = portfolio_val['Total Position'].pct_change(1)"
   ]
  },
  {
   "cell_type": "code",
   "execution_count": 23,
   "metadata": {},
   "outputs": [
    {
     "data": {
      "text/html": [
       "<div>\n",
       "<style scoped>\n",
       "    .dataframe tbody tr th:only-of-type {\n",
       "        vertical-align: middle;\n",
       "    }\n",
       "\n",
       "    .dataframe tbody tr th {\n",
       "        vertical-align: top;\n",
       "    }\n",
       "\n",
       "    .dataframe thead th {\n",
       "        text-align: right;\n",
       "    }\n",
       "</style>\n",
       "<table border=\"1\" class=\"dataframe\">\n",
       "  <thead>\n",
       "    <tr style=\"text-align: right;\">\n",
       "      <th></th>\n",
       "      <th>AAPL</th>\n",
       "      <th>AMZN</th>\n",
       "      <th>NFLX</th>\n",
       "      <th>GOOGL</th>\n",
       "      <th>FB</th>\n",
       "      <th>Total Position</th>\n",
       "      <th>Daily Return</th>\n",
       "    </tr>\n",
       "    <tr>\n",
       "      <th>Date</th>\n",
       "      <th></th>\n",
       "      <th></th>\n",
       "      <th></th>\n",
       "      <th></th>\n",
       "      <th></th>\n",
       "      <th></th>\n",
       "      <th></th>\n",
       "    </tr>\n",
       "  </thead>\n",
       "  <tbody>\n",
       "    <tr>\n",
       "      <th>2016-01-04</th>\n",
       "      <td>30000.000000</td>\n",
       "      <td>20000.000000</td>\n",
       "      <td>20000.000000</td>\n",
       "      <td>10000.000000</td>\n",
       "      <td>20000.000000</td>\n",
       "      <td>100000.000000</td>\n",
       "      <td>NaN</td>\n",
       "    </tr>\n",
       "    <tr>\n",
       "      <th>2016-01-05</th>\n",
       "      <td>29248.219861</td>\n",
       "      <td>19899.527080</td>\n",
       "      <td>19581.666890</td>\n",
       "      <td>10027.520632</td>\n",
       "      <td>20099.785195</td>\n",
       "      <td>98856.719657</td>\n",
       "      <td>-0.011433</td>\n",
       "    </tr>\n",
       "    <tr>\n",
       "      <th>2016-01-06</th>\n",
       "      <td>28675.841640</td>\n",
       "      <td>19863.735196</td>\n",
       "      <td>21404.147196</td>\n",
       "      <td>9998.551757</td>\n",
       "      <td>20146.742319</td>\n",
       "      <td>100089.018107</td>\n",
       "      <td>0.012466</td>\n",
       "    </tr>\n",
       "    <tr>\n",
       "      <th>2016-01-07</th>\n",
       "      <td>27465.586794</td>\n",
       "      <td>19087.898138</td>\n",
       "      <td>20836.667609</td>\n",
       "      <td>9757.189477</td>\n",
       "      <td>19158.676776</td>\n",
       "      <td>96306.018794</td>\n",
       "      <td>-0.037796</td>\n",
       "    </tr>\n",
       "    <tr>\n",
       "      <th>2016-01-08</th>\n",
       "      <td>27610.818599</td>\n",
       "      <td>19059.953754</td>\n",
       "      <td>20260.094638</td>\n",
       "      <td>9624.328068</td>\n",
       "      <td>19043.240201</td>\n",
       "      <td>95598.435260</td>\n",
       "      <td>-0.007347</td>\n",
       "    </tr>\n",
       "  </tbody>\n",
       "</table>\n",
       "</div>"
      ],
      "text/plain": [
       "                    AAPL          AMZN          NFLX         GOOGL  \\\n",
       "Date                                                                 \n",
       "2016-01-04  30000.000000  20000.000000  20000.000000  10000.000000   \n",
       "2016-01-05  29248.219861  19899.527080  19581.666890  10027.520632   \n",
       "2016-01-06  28675.841640  19863.735196  21404.147196   9998.551757   \n",
       "2016-01-07  27465.586794  19087.898138  20836.667609   9757.189477   \n",
       "2016-01-08  27610.818599  19059.953754  20260.094638   9624.328068   \n",
       "\n",
       "                      FB  Total Position  Daily Return  \n",
       "Date                                                    \n",
       "2016-01-04  20000.000000   100000.000000           NaN  \n",
       "2016-01-05  20099.785195    98856.719657     -0.011433  \n",
       "2016-01-06  20146.742319   100089.018107      0.012466  \n",
       "2016-01-07  19158.676776    96306.018794     -0.037796  \n",
       "2016-01-08  19043.240201    95598.435260     -0.007347  "
      ]
     },
     "execution_count": 23,
     "metadata": {},
     "output_type": "execute_result"
    }
   ],
   "source": [
    "portfolio_val.head()"
   ]
  },
  {
   "cell_type": "markdown",
   "metadata": {},
   "source": [
    "Avg daily return: "
   ]
  },
  {
   "cell_type": "code",
   "execution_count": 24,
   "metadata": {},
   "outputs": [
    {
     "data": {
      "text/plain": [
       "0.001239480313357121"
      ]
     },
     "execution_count": 24,
     "metadata": {},
     "output_type": "execute_result"
    }
   ],
   "source": [
    "portfolio_val['Daily Return'].mean()"
   ]
  },
  {
   "cell_type": "code",
   "execution_count": 25,
   "metadata": {},
   "outputs": [
    {
     "data": {
      "text/plain": [
       "0.016801381617318086"
      ]
     },
     "execution_count": 25,
     "metadata": {},
     "output_type": "execute_result"
    }
   ],
   "source": [
    "portfolio_val['Daily Return'].std()"
   ]
  },
  {
   "cell_type": "code",
   "execution_count": 27,
   "metadata": {},
   "outputs": [
    {
     "data": {
      "text/plain": [
       "<AxesSubplot:ylabel='Frequency'>"
      ]
     },
     "execution_count": 27,
     "metadata": {},
     "output_type": "execute_result"
    },
    {
     "data": {
      "image/png": "[encoded data removed]",
      "text/plain": [
       "<Figure size 576x648 with 1 Axes>"
      ]
     },
     "metadata": {
      "needs_background": "light"
     },
     "output_type": "display_data"
    }
   ],
   "source": [
    "portfolio_val['Daily Return'].plot(kind='hist',bins=100, figsize=(8,9))"
   ]
  },
  {
   "cell_type": "code",
   "execution_count": 29,
   "metadata": {},
   "outputs": [
    {
     "data": {
      "text/plain": [
       "<AxesSubplot:ylabel='Density'>"
      ]
     },
     "execution_count": 29,
     "metadata": {},
     "output_type": "execute_result"
    },
    {
     "data": {
      "image/png": "[encoded data removed]",
      "text/plain": [
       "<Figure size 576x648 with 1 Axes>"
      ]
     },
     "metadata": {
      "needs_background": "light"
     },
     "output_type": "display_data"
    }
   ],
   "source": [
    "portfolio_val['Daily Return'].plot(kind='kde', figsize=(8,9))"
   ]
  },
  {
   "cell_type": "markdown",
   "metadata": {},
   "source": [
    "Overall Cumulative return: "
   ]
  },
  {
   "cell_type": "code",
   "execution_count": 35,
   "metadata": {},
   "outputs": [],
   "source": [
    "Cumulative_return = 100 * (portfolio_val['Total Position'][-1]/portfolio_val['Total Position'][0]-1) "
   ]
  },
  {
   "cell_type": "code",
   "execution_count": 31,
   "metadata": {},
   "outputs": [
    {
     "data": {
      "text/plain": [
       "339.93975811968886"
      ]
     },
     "execution_count": 31,
     "metadata": {},
     "output_type": "execute_result"
    }
   ],
   "source": [
    "Cumulative_return"
   ]
  },
  {
   "cell_type": "code",
   "execution_count": 36,
   "metadata": {},
   "outputs": [
    {
     "data": {
      "text/plain": [
       "439939.75811968883"
      ]
     },
     "execution_count": 36,
     "metadata": {},
     "output_type": "execute_result"
    }
   ],
   "source": [
    "portfolio_val['Total Position'][-1]"
   ]
  },
  {
   "cell_type": "markdown",
   "metadata": {},
   "source": [
    "Sharpe Ratio:"
   ]
  },
  {
   "cell_type": "code",
   "execution_count": 40,
   "metadata": {},
   "outputs": [
    {
     "data": {
      "text/plain": [
       "0.07377252309295337"
      ]
     },
     "execution_count": 40,
     "metadata": {},
     "output_type": "execute_result"
    }
   ],
   "source": [
    "SR = portfolio_val['Daily Return'].mean() / portfolio_val['Daily Return'].std()\n",
    "SR"
   ]
  },
  {
   "cell_type": "code",
   "execution_count": 42,
   "metadata": {},
   "outputs": [
    {
     "data": {
      "text/plain": [
       "1.171102498162345"
      ]
     },
     "execution_count": 42,
     "metadata": {},
     "output_type": "execute_result"
    }
   ],
   "source": [
    "#Annual sharp ration:\n",
    "ASR = (252**0.5) * SR\n",
    "ASR"
   ]
  },
  {
   "cell_type": "markdown",
   "metadata": {},
   "source": [
    "SR > 1 is consider acceptable for the investment \n",
    "\n",
    "SR > 2 is good\n",
    "\n",
    "SR >3 is excellent \n"
   ]
  },
  {
   "cell_type": "code",
   "execution_count": null,
   "metadata": {},
   "outputs": [],
   "source": []
  }
 ],
 "metadata": {
  "kernelspec": {
   "display_name": "Python 3",
   "language": "python",
   "name": "python3"
  },
  "language_info": {
   "codemirror_mode": {
    "name": "ipython",
    "version": 3
   },
   "file_extension": ".py",
   "mimetype": "text/x-python",
   "name": "python",
   "nbconvert_exporter": "python",
   "pygments_lexer": "ipython3",
   "version": "3.8.5"
  }
 },
 "nbformat": 4,
 "nbformat_minor": 4
}
